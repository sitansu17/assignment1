{
 "cells": [
  {
   "cell_type": "code",
   "execution_count": 3,
   "id": "c705dd8c",
   "metadata": {},
   "outputs": [
    {
     "name": "stdout",
     "output_type": "stream",
     "text": [
      "1 1 2 3 5 8 13 21 34 "
     ]
    }
   ],
   "source": [
    "#1.Write a Python program to get the Fibonacci series between 0 to 50\n",
    "n1=0\n",
    "n2=1\n",
    "n3=1\n",
    "while n3<=50:\n",
    "    print(n3,end= \" \")\n",
    "    n3=n1+n2\n",
    "    n1=n2\n",
    "    n2=n3"
   ]
  },
  {
   "cell_type": "code",
   "execution_count": 4,
   "id": "1d4ac093",
   "metadata": {},
   "outputs": [
    {
     "name": "stdout",
     "output_type": "stream",
     "text": [
      "enter the word\n",
      "Edyoda\n",
      "reversed word is\n",
      " adoydE\n"
     ]
    }
   ],
   "source": [
    "#2.Write a Python program that accepts a word from the user and reverse it.\n",
    "print(\"enter the word\")\n",
    "word=input()\n",
    "print(\"reversed word is\\n\",word[::-1])\n"
   ]
  },
  {
   "cell_type": "code",
   "execution_count": 15,
   "id": "d6821c90",
   "metadata": {},
   "outputs": [
    {
     "name": "stdout",
     "output_type": "stream",
     "text": [
      "no of even numbers= 4\n",
      "no of odd numbers= 5\n"
     ]
    }
   ],
   "source": [
    "#3.Write a Python program to count the number of even and odd numbers from a series of numbers.\n",
    "\n",
    "numbers =(1, 2, 3, 4, 5, 6, 7, 8, 9)\n",
    "even=0\n",
    "odd=0\n",
    "for num in numbers:\n",
    "    if num%2==0:\n",
    "        even=even+1\n",
    "    else:\n",
    "        odd=odd+1\n",
    "print(\"no of even numbers=\",even)\n",
    "print('no of odd numbers=',odd)"
   ]
  }
 ],
 "metadata": {
  "kernelspec": {
   "display_name": "Python 3",
   "language": "python",
   "name": "python3"
  },
  "language_info": {
   "codemirror_mode": {
    "name": "ipython",
    "version": 3
   },
   "file_extension": ".py",
   "mimetype": "text/x-python",
   "name": "python",
   "nbconvert_exporter": "python",
   "pygments_lexer": "ipython3",
   "version": "3.8.8"
  }
 },
 "nbformat": 4,
 "nbformat_minor": 5
}
